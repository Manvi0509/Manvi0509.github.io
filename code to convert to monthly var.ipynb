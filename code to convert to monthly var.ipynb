{
  "nbformat": 4,
  "nbformat_minor": 0,
  "metadata": {
    "colab": {
      "provenance": [],
      "authorship_tag": "ABX9TyMft73Vlze/TGK16qoqf4PA",
      "include_colab_link": true
    },
    "kernelspec": {
      "name": "python3",
      "display_name": "Python 3"
    },
    "language_info": {
      "name": "python"
    }
  },
  "cells": [
    {
      "cell_type": "markdown",
      "metadata": {
        "id": "view-in-github",
        "colab_type": "text"
      },
      "source": [
        "<a href=\"https://colab.research.google.com/github/Manvi0509/Manvi0509.github.io/blob/main/code%20to%20convert%20to%20monthly%20var.ipynb\" target=\"_parent\"><img src=\"https://colab.research.google.com/assets/colab-badge.svg\" alt=\"Open In Colab\"/></a>"
      ]
    },
    {
      "cell_type": "code",
      "source": [
        "import pandas as pd\n",
        "import numpy as np\n",
        "\n",
        "# Sample data for demonstration (replace this with your actual data)\n",
        "# Example: data = pd.read_excel('your_data.xlsx')\n",
        "# Assuming 'data' is your DataFrame containing daily AQI data with 'Timestamp' and 'AQI' columns\n",
        "\n",
        "# Ensure 'Timestamp' is a datetime object with explicit format\n",
        "data['Timestamp'] = pd.to_datetime(data['Timestamp'], format='%d-%m-%Y')  # Adjust format if necessary\n",
        "\n",
        "# Set the 'Timestamp' column as the index\n",
        "data.set_index('Timestamp', inplace=True)\n",
        "\n",
        "# Filter data for the year 2018 (or any other year you are interested in)\n",
        "# data_2018 = data[data.index.year == 2018]  # Uncomment if you want to filter by year\n",
        "\n",
        "# Resample the data to monthly frequency, taking the 95th percentile for each month\n",
        "monthly_var = data['AQI'].resample('M').apply(lambda x: np.percentile(x, 95))\n",
        "\n",
        "\n",
        "# Change the path as needed, for example:\n",
        "file_path = r\"C:\\path\\to\\your\\folder\\monthly_var_2018.xlsx\"\n",
        "\n",
        "# Save the result to the specified Excel file path\n",
        "monthly_var.to_excel(file_path, sheet_name='Monthly_VaR')\n",
        "\n",
        "# Print success message\n",
        "print(f\"Monthly VaR data has been saved to {file_path}\")\n",
        "# Save the result to an Excel file\n",
        "#monthly_var.to_excel('monthly_var_2018.xlsx', sheet_name='Monthly_VaR')\n",
        "\n",
        "# Print success message\n",
        "#print(\"Monthly VaR data has been saved to 'monthly_var_2018.xlsx'\")\n"
      ],
      "metadata": {
        "id": "oejyqP9zBSx-"
      },
      "execution_count": null,
      "outputs": []
    }
  ]
}