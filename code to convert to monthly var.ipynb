{
  "nbformat": 4,
  "nbformat_minor": 0,
  "metadata": {
    "colab": {
      "provenance": [],
      "authorship_tag": "ABX9TyPd4qHl4Ompnf9lK3KzbQWW",
      "include_colab_link": true
    },
    "kernelspec": {
      "name": "python3",
      "display_name": "Python 3"
    },
    "language_info": {
      "name": "python"
    }
  },
  "cells": [
    {
      "cell_type": "markdown",
      "metadata": {
        "id": "view-in-github",
        "colab_type": "text"
      },
      "source": [
        "<a href=\"https://colab.research.google.com/github/Manvi0509/Manvi0509.github.io/blob/main/code%20to%20convert%20to%20monthly%20var.ipynb\" target=\"_parent\"><img src=\"https://colab.research.google.com/assets/colab-badge.svg\" alt=\"Open In Colab\"/></a>"
      ]
    },
    {
      "cell_type": "code",
      "source": [
        "import pandas as pd\n",
        "import numpy as np\n",
        "\n",
        "# Sample data for demonstration (replace this with your actual data)\n",
        "# Example: data = pd.read_excel('your_data.xlsx')\n",
        "# Assuming 'data' is your DataFrame containing daily AQI data with 'Timestamp' and 'AQI' columns\n",
        "\n",
        "# Ensure 'Timestamp' is a datetime object with explicit format\n",
        "data['Timestamp'] = pd.to_datetime(data['Timestamp'], format='%d-%m-%Y')  # Adjust format if necessary\n",
        "\n",
        "# Set the 'Timestamp' column as the index\n",
        "data.set_index('Timestamp', inplace=True)\n",
        "\n",
        "# Filter data for the year 2018 (or any other year you are interested in)\n",
        "# data_2018 = data[data.index.year == 2018]  # Uncomment if you want to filter by year\n",
        "\n",
        "# Resample the data to monthly frequency, taking the 95th percentile for each month\n",
        "monthly_var = data['AQI'].resample('M').apply(lambda x: np.percentile(x, 95))\n",
        "\n",
        "\n",
        "# Change the path as needed, for example:\n",
        "file_path = r\"C:\\path\\to\\your\\folder\\monthly_var_2018.xlsx\"\n",
        "\n",
        "# Save the result to the specified Excel file path\n",
        "monthly_var.to_excel(file_path, sheet_name='Monthly_VaR')\n",
        "\n",
        "# Print success message\n",
        "print(f\"Monthly VaR data has been saved to {file_path}\")\n",
        "# Save the result to an Excel file\n",
        "#monthly_var.to_excel('monthly_var_2018.xlsx', sheet_name='Monthly_VaR')\n",
        "\n",
        "# Print success message\n",
        "#print(\"Monthly VaR data has been saved to 'monthly_var_2018.xlsx'\")\n"
      ],
      "metadata": {
        "id": "oejyqP9zBSx-"
      },
      "execution_count": null,
      "outputs": []
    },
    {
      "cell_type": "code",
      "source": [
        "import pandas as pd\n",
        "import numpy as np\n",
        "\n",
        "# Sample data for demonstration (replace this with your actual data)\n",
        "data = pd.read_excel('/content/rough_aqi_var.xlsx')\n",
        "# Assuming 'data' is your DataFrame containing daily data for each factor with 'Timestamp' and corresponding factors as columns\n",
        "\n",
        "# Ensure 'Timestamp' is a datetime object with explicit format\n",
        "data['Timestamp'] = pd.to_datetime(data['Timestamp'], format='%d-%m-%Y')  # Adjust format if necessary\n",
        "\n",
        "# Set the 'Timestamp' column as the index\n",
        "data.set_index('Timestamp', inplace=True)\n",
        "\n",
        "# List of the factors you want to calculate the 95th percentile VaR for\n",
        "factors = ['AQI', 'Max temp', 'Min temp', 'precip', 'windspeed', 'winddir', 'PM2.5 ', 'PM10 ', 'NO2 ', 'SO2 ', 'Max 8-h CO', 'Max 8-h Ozone']\n",
        "\n",
        "# Create an empty DataFrame to store the VaR results for each factor\n",
        "monthly_var = pd.DataFrame()\n",
        "\n",
        "# Loop through each factor to calculate the 95th percentile for each month\n",
        "for factor in factors:\n",
        "    monthly_var[factor] = data[factor].resample('M').apply(lambda x: np.percentile(x, 95))\n",
        "\n",
        "# Change the path as needed to save the output Excel file\n",
        "file_path = r\"monthly_var_2018.xlsx\"\n",
        "\n",
        "# Save the result to the specified Excel file path\n",
        "monthly_var.to_excel(file_path, sheet_name='Monthly_VaR')\n",
        "\n",
        "# Print success message\n",
        "print(f\"Monthly VaR data for all factors has been saved to {file_path}\")\n"
      ],
      "metadata": {
        "id": "vHGBtSaGzbnC",
        "outputId": "44b22806-9de6-4068-a765-9baad5aa7c6f",
        "colab": {
          "base_uri": "https://localhost:8080/"
        }
      },
      "execution_count": 9,
      "outputs": [
        {
          "output_type": "stream",
          "name": "stdout",
          "text": [
            "Monthly VaR data for all factors has been saved to monthly_var_2018.xlsx\n"
          ]
        },
        {
          "output_type": "stream",
          "name": "stderr",
          "text": [
            "<ipython-input-9-34d6520f5ff0>:22: FutureWarning: 'M' is deprecated and will be removed in a future version, please use 'ME' instead.\n",
            "  monthly_var[factor] = data[factor].resample('M').apply(lambda x: np.percentile(x, 95))\n",
            "<ipython-input-9-34d6520f5ff0>:22: FutureWarning: 'M' is deprecated and will be removed in a future version, please use 'ME' instead.\n",
            "  monthly_var[factor] = data[factor].resample('M').apply(lambda x: np.percentile(x, 95))\n",
            "<ipython-input-9-34d6520f5ff0>:22: FutureWarning: 'M' is deprecated and will be removed in a future version, please use 'ME' instead.\n",
            "  monthly_var[factor] = data[factor].resample('M').apply(lambda x: np.percentile(x, 95))\n",
            "<ipython-input-9-34d6520f5ff0>:22: FutureWarning: 'M' is deprecated and will be removed in a future version, please use 'ME' instead.\n",
            "  monthly_var[factor] = data[factor].resample('M').apply(lambda x: np.percentile(x, 95))\n",
            "<ipython-input-9-34d6520f5ff0>:22: FutureWarning: 'M' is deprecated and will be removed in a future version, please use 'ME' instead.\n",
            "  monthly_var[factor] = data[factor].resample('M').apply(lambda x: np.percentile(x, 95))\n",
            "<ipython-input-9-34d6520f5ff0>:22: FutureWarning: 'M' is deprecated and will be removed in a future version, please use 'ME' instead.\n",
            "  monthly_var[factor] = data[factor].resample('M').apply(lambda x: np.percentile(x, 95))\n",
            "<ipython-input-9-34d6520f5ff0>:22: FutureWarning: 'M' is deprecated and will be removed in a future version, please use 'ME' instead.\n",
            "  monthly_var[factor] = data[factor].resample('M').apply(lambda x: np.percentile(x, 95))\n",
            "<ipython-input-9-34d6520f5ff0>:22: FutureWarning: 'M' is deprecated and will be removed in a future version, please use 'ME' instead.\n",
            "  monthly_var[factor] = data[factor].resample('M').apply(lambda x: np.percentile(x, 95))\n",
            "<ipython-input-9-34d6520f5ff0>:22: FutureWarning: 'M' is deprecated and will be removed in a future version, please use 'ME' instead.\n",
            "  monthly_var[factor] = data[factor].resample('M').apply(lambda x: np.percentile(x, 95))\n",
            "<ipython-input-9-34d6520f5ff0>:22: FutureWarning: 'M' is deprecated and will be removed in a future version, please use 'ME' instead.\n",
            "  monthly_var[factor] = data[factor].resample('M').apply(lambda x: np.percentile(x, 95))\n",
            "<ipython-input-9-34d6520f5ff0>:22: FutureWarning: 'M' is deprecated and will be removed in a future version, please use 'ME' instead.\n",
            "  monthly_var[factor] = data[factor].resample('M').apply(lambda x: np.percentile(x, 95))\n",
            "<ipython-input-9-34d6520f5ff0>:22: FutureWarning: 'M' is deprecated and will be removed in a future version, please use 'ME' instead.\n",
            "  monthly_var[factor] = data[factor].resample('M').apply(lambda x: np.percentile(x, 95))\n"
          ]
        }
      ]
    },
    {
      "cell_type": "code",
      "source": [
        "import pandas as pd\n",
        "import numpy as np\n",
        "\n",
        "# Sample data for demonstration (replace this with your actual data)\n",
        "data = pd.read_excel('/content/rough_aqi_var.xlsx')\n",
        "\n",
        "# Ensure 'Timestamp' is a datetime object with explicit format\n",
        "data['Timestamp'] = pd.to_datetime(data['Timestamp'], format='%d-%m-%Y')  # Adjust format if necessary\n",
        "\n",
        "# Set the 'Timestamp' column as the index\n",
        "data.set_index('Timestamp', inplace=True)\n",
        "\n",
        "# List of the factors you want to calculate the 95th percentile VaR for\n",
        "factors = ['AQI', 'Max temp', 'Min temp', 'precip', 'windspeed', 'winddir', 'PM2.5 ', 'PM10 ', 'NO2 ', 'SO2 ', 'Max 8-h CO', 'Max 8-h Ozone']\n",
        "\n",
        "# Create an empty DataFrame to store the VaR results for each factor\n",
        "monthly_var = pd.DataFrame()\n",
        "\n",
        "# Loop through each factor to calculate the 95th percentile for each month\n",
        "for factor in factors:\n",
        "    monthly_var[factor] = data[factor].resample('M').apply(lambda x: np.percentile(x, 95))\n",
        "\n",
        "# Reset index to make sure it’s in the correct format\n",
        "monthly_var.index = monthly_var.index.strftime('%Y-%m')  # Format the index as Year-Month (e.g., '2018-01')\n",
        "\n",
        "# Change the path as needed to save the output Excel file\n",
        "file_path = r\"monthly_var_2021_3.xlsx\"\n",
        "\n",
        "# Save the result to the specified Excel file path\n",
        "monthly_var.to_excel(file_path, sheet_name='Monthly_VaR')\n",
        "\n",
        "# Print success message\n",
        "print(f\"Monthly VaR data for all factors has been saved to {file_path}\")\n"
      ],
      "metadata": {
        "id": "7SnPnUL12-F9",
        "outputId": "7c5a055e-cad7-43bf-85f1-2ed3d802cb02",
        "colab": {
          "base_uri": "https://localhost:8080/"
        }
      },
      "execution_count": 20,
      "outputs": [
        {
          "output_type": "stream",
          "name": "stdout",
          "text": [
            "Monthly VaR data for all factors has been saved to monthly_var_2021_3.xlsx\n"
          ]
        },
        {
          "output_type": "stream",
          "name": "stderr",
          "text": [
            "<ipython-input-20-0a4da5b96a46>:21: FutureWarning: 'M' is deprecated and will be removed in a future version, please use 'ME' instead.\n",
            "  monthly_var[factor] = data[factor].resample('M').apply(lambda x: np.percentile(x, 95))\n",
            "<ipython-input-20-0a4da5b96a46>:21: FutureWarning: 'M' is deprecated and will be removed in a future version, please use 'ME' instead.\n",
            "  monthly_var[factor] = data[factor].resample('M').apply(lambda x: np.percentile(x, 95))\n",
            "<ipython-input-20-0a4da5b96a46>:21: FutureWarning: 'M' is deprecated and will be removed in a future version, please use 'ME' instead.\n",
            "  monthly_var[factor] = data[factor].resample('M').apply(lambda x: np.percentile(x, 95))\n",
            "<ipython-input-20-0a4da5b96a46>:21: FutureWarning: 'M' is deprecated and will be removed in a future version, please use 'ME' instead.\n",
            "  monthly_var[factor] = data[factor].resample('M').apply(lambda x: np.percentile(x, 95))\n",
            "<ipython-input-20-0a4da5b96a46>:21: FutureWarning: 'M' is deprecated and will be removed in a future version, please use 'ME' instead.\n",
            "  monthly_var[factor] = data[factor].resample('M').apply(lambda x: np.percentile(x, 95))\n",
            "<ipython-input-20-0a4da5b96a46>:21: FutureWarning: 'M' is deprecated and will be removed in a future version, please use 'ME' instead.\n",
            "  monthly_var[factor] = data[factor].resample('M').apply(lambda x: np.percentile(x, 95))\n",
            "<ipython-input-20-0a4da5b96a46>:21: FutureWarning: 'M' is deprecated and will be removed in a future version, please use 'ME' instead.\n",
            "  monthly_var[factor] = data[factor].resample('M').apply(lambda x: np.percentile(x, 95))\n",
            "<ipython-input-20-0a4da5b96a46>:21: FutureWarning: 'M' is deprecated and will be removed in a future version, please use 'ME' instead.\n",
            "  monthly_var[factor] = data[factor].resample('M').apply(lambda x: np.percentile(x, 95))\n",
            "<ipython-input-20-0a4da5b96a46>:21: FutureWarning: 'M' is deprecated and will be removed in a future version, please use 'ME' instead.\n",
            "  monthly_var[factor] = data[factor].resample('M').apply(lambda x: np.percentile(x, 95))\n",
            "<ipython-input-20-0a4da5b96a46>:21: FutureWarning: 'M' is deprecated and will be removed in a future version, please use 'ME' instead.\n",
            "  monthly_var[factor] = data[factor].resample('M').apply(lambda x: np.percentile(x, 95))\n",
            "<ipython-input-20-0a4da5b96a46>:21: FutureWarning: 'M' is deprecated and will be removed in a future version, please use 'ME' instead.\n",
            "  monthly_var[factor] = data[factor].resample('M').apply(lambda x: np.percentile(x, 95))\n",
            "<ipython-input-20-0a4da5b96a46>:21: FutureWarning: 'M' is deprecated and will be removed in a future version, please use 'ME' instead.\n",
            "  monthly_var[factor] = data[factor].resample('M').apply(lambda x: np.percentile(x, 95))\n"
          ]
        }
      ]
    }
  ]
}